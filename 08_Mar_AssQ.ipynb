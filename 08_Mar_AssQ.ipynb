{
 "cells": [
  {
   "attachments": {},
   "cell_type": "markdown",
   "metadata": {},
   "source": [
    "# Q1. What is the Probability density function?\n",
    "\n",
    "> A Probability density function (PDF) is a function that describes the probability distribution of a continuous random variable. It gives the probability that the value of the random variable falls within a particular range of values, rather than giving the probability of a particular value. The area under the PDF curve between two points is equal to the probability of the random variable falling within that range.\n"
   ]
  },
  {
   "attachments": {},
   "cell_type": "markdown",
   "metadata": {},
   "source": [
    "# Q2. What are the types of Probability distribution?\n",
    "\n",
    "> There are several types of probability distributions. Some of the commonly used ones are:\n",
    "\n",
    "- Normal distribution\n",
    "- Binomial distribution\n",
    "- Poisson distribution\n",
    "- Exponential distribution\n",
    "- Uniform distribution\n",
    "- Chi-Square distribution\n",
    "- Gamma distribution\n",
    "- Student's t-distribution\n",
    "- F-distribution"
   ]
  },
  {
   "attachments": {},
   "cell_type": "markdown",
   "metadata": {},
   "source": [
    "# Q3. Write a Python function to calculate the probability density function of a normal distribution with given mean and standard deviation at a given point."
   ]
  },
  {
   "cell_type": "code",
   "execution_count": 2,
   "metadata": {},
   "outputs": [
    {
     "name": "stdout",
     "output_type": "stream",
     "text": [
      "0.12951759566589174\n"
     ]
    }
   ],
   "source": [
    "import math\n",
    "\n",
    "def normal_pdf(x, mean, std_dev):\n",
    "    exponent = -((x - mean) ** 2) / (2 * std_dev ** 2)\n",
    "    coef = 1 / (std_dev * math.sqrt(2 * math.pi))\n",
    "    return coef * math.exp(exponent)\n",
    "\n",
    "x = 1.5\n",
    "mean = 0\n",
    "std_dev = 1\n",
    "pdf = normal_pdf(x, mean, std_dev)\n",
    "\n",
    "print(pdf)\n"
   ]
  },
  {
   "attachments": {},
   "cell_type": "markdown",
   "metadata": {},
   "source": [
    "# Q4. What are the properties of Binomial distribution? Give two examples of events where binomial distribution can be applied.\n",
    "\n",
    "> Properties of the binomial distribution are:\n",
    "\n",
    "- 1. The experiment consists of a fixed number of independent trials.\n",
    "- 2. Each trial has only two possible outcomes, often called success and failure.\n",
    "- 3. The probability of success is constant for each trial.\n",
    "- 4. The trials are independent.\n",
    "\n",
    "> Two examples of events where binomial distribution can be applied are:\n",
    "\n",
    "- 1. Flipping a coin multiple times and counting the number of times it lands on heads.\n",
    "- 2. Conducting a survey and counting the number of people who choose a particular option."
   ]
  },
  {
   "attachments": {},
   "cell_type": "markdown",
   "metadata": {},
   "source": [
    "# Q5. Generate a random sample of size 1000 from a binomial distribution with probability of success 0.4 and plot a histogram of the results using matplotlib."
   ]
  },
  {
   "cell_type": "code",
   "execution_count": 3,
   "metadata": {},
   "outputs": [
    {
     "data": {
      "image/png": "[encoded data removed]",
      "text/plain": [
       "<Figure size 640x480 with 1 Axes>"
      ]
     },
     "metadata": {},
     "output_type": "display_data"
    }
   ],
   "source": [
    "import numpy as np\n",
    "import matplotlib.pyplot as plt\n",
    "\n",
    "# Generate random sample of size 1000 from a binomial distribution with probability of success 0.4\n",
    "sample = np.random.binomial(n=1, p=0.4, size=1000)\n",
    "\n",
    "# Plot histogram of the sample\n",
    "plt.hist(sample, bins=10)\n",
    "plt.xlabel('Number of successes')\n",
    "plt.ylabel('Frequency')\n",
    "plt.title('Histogram of Binomial Distribution')\n",
    "plt.show()\n"
   ]
  },
  {
   "attachments": {},
   "cell_type": "markdown",
   "metadata": {},
   "source": [
    "# Q6. Write a Python function to calculate the cumulative distribution function of a Poisson distribution with given mean at a given point."
   ]
  },
  {
   "cell_type": "code",
   "execution_count": 4,
   "metadata": {},
   "outputs": [
    {
     "name": "stdout",
     "output_type": "stream",
     "text": [
      "0.2650259152973617\n"
     ]
    }
   ],
   "source": [
    "import math\n",
    "\n",
    "def poisson_cdf(k, mean):\n",
    "    cdf = 0\n",
    "    for i in range(k+1):\n",
    "        cdf += ((mean**i) / math.factorial(i)) * math.exp(-mean)\n",
    "    return cdf\n",
    "\n",
    "k = 3\n",
    "mean = 5\n",
    "cdf = poisson_cdf(k, mean)\n",
    "\n",
    "print(cdf)\n"
   ]
  },
  {
   "attachments": {},
   "cell_type": "markdown",
   "metadata": {},
   "source": [
    "# Q7. How is the binomial distribution different from the Poisson distribution?"
   ]
  },
  {
   "attachments": {},
   "cell_type": "markdown",
   "metadata": {},
   "source": [
    ">The main difference between the binomial distribution and the Poisson distribution is the nature of the random variable they model. The binomial distribution models the number of successes in a fixed number of independent trials, where the probability of success is constant for each trial. The Poisson distribution, on the other hand, models the number of events that occur in a fixed interval of time or space, where the events occur randomly and independently, and the expected number of events in the interval is constant.\n",
    "\n",
    ">More specifically, the binomial distribution has two parameters: the number of trials n and the probability of success p. The probability mass function (PMF) of the binomial distribution gives the probability of getting exactly k successes in n trials with probability of success p. The PMF of the binomial distribution is:\n",
    "\n",
    ">P(X = k) = (n choose k) * p^k * (1 - p)^(n - k)\n",
    "\n",
    ">where (n choose k) is the binomial coefficient, which is the number of ways to choose k successes from n trials.\n",
    "\n",
    ">On the other hand, the Poisson distribution has one parameter: the expected number of events λ in the fixed interval. The probability mass function of the Poisson distribution gives the probability of getting exactly k events in the interval. The PMF of the Poisson distribution is:\n",
    "\n",
    ">P(X = k) = (λ^k * e^(-λ)) / k!\n",
    "\n",
    ">where e is the base of the natural logarithm, and k! is the factorial of k.\n",
    "\n",
    ">In summary, the main difference between the binomial distribution and the Poisson distribution is that the binomial distribution models the number of successes in a fixed number of trials, while the Poisson distribution models the number of events in a fixed interval of time or space."
   ]
  },
  {
   "attachments": {},
   "cell_type": "markdown",
   "metadata": {},
   "source": [
    "# Q8. Generate a random sample of size 1000 from a Poisson distribution with mean 5 and calculate the sample mean and variance."
   ]
  },
  {
   "cell_type": "code",
   "execution_count": 5,
   "metadata": {},
   "outputs": [
    {
     "name": "stdout",
     "output_type": "stream",
     "text": [
      "Sample mean: 4.922\n",
      "Sample variance: 4.937916\n"
     ]
    }
   ],
   "source": [
    "import numpy as np\n",
    "\n",
    "# Generate random sample of size 1000 from Poisson distribution with mean 5\n",
    "sample = np.random.poisson(lam=5, size=1000)\n",
    "\n",
    "# Calculate sample mean and variance\n",
    "sample_mean = np.mean(sample)\n",
    "sample_var = np.var(sample)\n",
    "\n",
    "print(\"Sample mean:\", sample_mean)\n",
    "print(\"Sample variance:\", sample_var)\n"
   ]
  },
  {
   "cell_type": "markdown",
   "metadata": {},
   "source": [
    "# Q9. How mean and variance are related in Binomial distribution and Poisson distribution?"
   ]
  },
  {
   "attachments": {},
   "cell_type": "markdown",
   "metadata": {},
   "source": [
    ">In both the binomial distribution and the Poisson distribution, the mean and variance are related to the parameter that governs the distribution.\n",
    "\n",
    ">For the binomial distribution, the mean is equal to n * p and the variance is equal to n * p * (1 - p), where n is the number of trials and p is the probability of success. This means that as the probability of success increases or decreases, the variance of the distribution also changes, with the highest variance occurring when p=0.5. When p=0 or p=1, the variance is 0.\n",
    "\n",
    ">For the Poisson distribution, the mean and variance are both equal to the parameter λ, which is the expected number of events in the fixed interval. This means that as the expected number of events increases or decreases, the variance of the distribution also changes. When λ is very small, the variance is approximately equal to λ, and as λ gets larger, the variance approaches λ."
   ]
  },
  {
   "attachments": {},
   "cell_type": "markdown",
   "metadata": {},
   "source": [
    "# Q1O. In normal distribution with respect to mean position, where does the least frequent data appear?"
   ]
  },
  {
   "attachments": {},
   "cell_type": "markdown",
   "metadata": {},
   "source": [
    ">In a normal distribution, the least frequent data appears at the tails of the distribution, which are the extreme values far away from the mean. Specifically, the least frequent data is located at a distance of more than 3 standard deviations from the mean, which contains only about 0.3% of the data in the distribution."
   ]
  }
 ],
 "metadata": {
  "kernelspec": {
   "display_name": "Python 3",
   "language": "python",
   "name": "python3"
  },
  "language_info": {
   "codemirror_mode": {
    "name": "ipython",
    "version": 3
   },
   "file_extension": ".py",
   "mimetype": "text/x-python",
   "name": "python",
   "nbconvert_exporter": "python",
   "pygments_lexer": "ipython3",
   "version": "3.11.2"
  },
  "orig_nbformat": 4
 },
 "nbformat": 4,
 "nbformat_minor": 2
}
